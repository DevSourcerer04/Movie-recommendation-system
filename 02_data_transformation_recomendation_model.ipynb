{
 "cells": [
  {
   "cell_type": "code",
   "execution_count": 1,
   "id": "5afdac03",
   "metadata": {},
   "outputs": [],
   "source": [
    "import pandas as pd\n",
    "movies = pd.read_csv('data/cleaned_movies.csv')\n",
    "new_df = pd.read_csv('data/new_df_movies.csv')"
   ]
  },
  {
   "cell_type": "code",
   "execution_count": 2,
   "id": "13cfa09d",
   "metadata": {},
   "outputs": [],
   "source": [
    "import nltk\n",
    "from nltk.stem import PorterStemmer"
   ]
  },
  {
   "cell_type": "code",
   "execution_count": 3,
   "id": "397cf989",
   "metadata": {},
   "outputs": [],
   "source": [
    "ps = PorterStemmer()\n",
    "\n",
    "def stems(text):\n",
    "    l = []\n",
    "    for i in text.split():\n",
    "        l.append(ps.stem(i))\n",
    "    return \" \".join(l)"
   ]
  },
  {
   "cell_type": "code",
   "execution_count": 4,
   "id": "515ff113",
   "metadata": {},
   "outputs": [],
   "source": [
    "new_df['tags'] = new_df['tags'].apply(stems)"
   ]
  },
  {
   "cell_type": "code",
   "execution_count": 5,
   "id": "abcaa653",
   "metadata": {},
   "outputs": [
    {
     "data": {
      "text/plain": [
       "'in the 22nd century, a parapleg marin is dispatch to the moon pandora on a uniqu mission, but becom torn between follow order and protect an alien civilization. action adventur fantasi scienc fiction avatar cultureclash futur spacewar spacecoloni societi spacetravel futurist romanc space alien tribe alienplanet cgi marin soldier battl loveaffair antiwar powerrel mindandsoul 3d samworthington zoesaldana sigourneyweav jamescameron'"
      ]
     },
     "execution_count": 5,
     "metadata": {},
     "output_type": "execute_result"
    }
   ],
   "source": [
    "new_df.iloc[0]['tags']"
   ]
  },
  {
   "cell_type": "code",
   "execution_count": 6,
   "id": "28e5d5c4",
   "metadata": {},
   "outputs": [],
   "source": [
    "from sklearn.feature_extraction.text import CountVectorizer\n",
    "cv = CountVectorizer(max_features = 5000, stop_words= 'english')"
   ]
  },
  {
   "cell_type": "code",
   "execution_count": 7,
   "id": "4b51befb",
   "metadata": {},
   "outputs": [],
   "source": [
    "vector = cv.fit_transform(new_df['tags']).toarray()"
   ]
  },
  {
   "cell_type": "code",
   "execution_count": 8,
   "id": "20d94114",
   "metadata": {},
   "outputs": [
    {
     "data": {
      "text/plain": [
       "array([[0, 0, 0, ..., 0, 0, 0],\n",
       "       [0, 0, 0, ..., 0, 0, 0],\n",
       "       [0, 0, 0, ..., 0, 0, 0],\n",
       "       ...,\n",
       "       [0, 0, 0, ..., 0, 0, 0],\n",
       "       [0, 0, 0, ..., 0, 0, 0],\n",
       "       [0, 0, 0, ..., 0, 0, 0]], dtype=int64)"
      ]
     },
     "execution_count": 8,
     "metadata": {},
     "output_type": "execute_result"
    }
   ],
   "source": [
    "vector"
   ]
  },
  {
   "cell_type": "code",
   "execution_count": 9,
   "id": "8be20ad4",
   "metadata": {},
   "outputs": [
    {
     "data": {
      "text/plain": [
       "(4809, 5000)"
      ]
     },
     "execution_count": 9,
     "metadata": {},
     "output_type": "execute_result"
    }
   ],
   "source": [
    "vector.shape"
   ]
  },
  {
   "cell_type": "code",
   "execution_count": 10,
   "id": "3bc6a85a",
   "metadata": {},
   "outputs": [],
   "source": [
    "from sklearn.metrics.pairwise import cosine_similarity"
   ]
  },
  {
   "cell_type": "code",
   "execution_count": 11,
   "id": "bf0c3201",
   "metadata": {},
   "outputs": [
    {
     "data": {
      "text/plain": [
       "array([[1.        , 0.08119979, 0.08492078, ..., 0.04279605, 0.        ,\n",
       "        0.        ],\n",
       "       [0.08119979, 1.        , 0.08964215, ..., 0.0225877 , 0.        ,\n",
       "        0.02577696],\n",
       "       [0.08492078, 0.08964215, 1.        , ..., 0.02362278, 0.        ,\n",
       "        0.        ],\n",
       "       ...,\n",
       "       [0.04279605, 0.0225877 , 0.02362278, ..., 1.        , 0.03818018,\n",
       "        0.04075696],\n",
       "       [0.        , 0.        , 0.        , ..., 0.03818018, 1.        ,\n",
       "        0.08714204],\n",
       "       [0.        , 0.02577696, 0.        , ..., 0.04075696, 0.08714204,\n",
       "        1.        ]])"
      ]
     },
     "execution_count": 11,
     "metadata": {},
     "output_type": "execute_result"
    }
   ],
   "source": [
    "similarity = cosine_similarity(vector)\n",
    "similarity"
   ]
  },
  {
   "cell_type": "code",
   "execution_count": 12,
   "id": "e693f765",
   "metadata": {},
   "outputs": [
    {
     "data": {
      "text/plain": [
       "(4809, 4809)"
      ]
     },
     "execution_count": 12,
     "metadata": {},
     "output_type": "execute_result"
    }
   ],
   "source": [
    "similarity.shape"
   ]
  },
  {
   "cell_type": "code",
   "execution_count": 13,
   "id": "28d3b4e1",
   "metadata": {},
   "outputs": [
    {
     "name": "stdout",
     "output_type": "stream",
     "text": [
      "[\"['Avatar']\" '[\"PiratesoftheCaribbean:AtWorld\\'sEnd\"]' \"['Spectre']\"\n",
      " \"['TheDarkKnightRises']\" \"['JohnCarter']\" \"['Spider-Man3']\" \"['Tangled']\"\n",
      " \"['Avengers:AgeofUltron']\" \"['HarryPotterandtheHalf-BloodPrince']\"\n",
      " \"['BatmanvSuperman:DawnofJustice']\" \"['SupermanReturns']\"\n",
      " \"['QuantumofSolace']\" '[\"PiratesoftheCaribbean:DeadMan\\'sChest\"]'\n",
      " \"['TheLoneRanger']\" \"['ManofSteel']\"\n",
      " \"['TheChroniclesofNarnia:PrinceCaspian']\" \"['TheAvengers']\"\n",
      " \"['PiratesoftheCaribbean:OnStrangerTides']\" \"['MeninBlack3']\"\n",
      " \"['TheHobbit:TheBattleoftheFiveArmies']\"]\n"
     ]
    }
   ],
   "source": [
    "print(new_df['original_title'].unique()[:20])\n"
   ]
  },
  {
   "cell_type": "code",
   "execution_count": 14,
   "id": "b7cf7ea6",
   "metadata": {},
   "outputs": [],
   "source": [
    "import ast\n",
    "\n",
    "# Keep original_title as is (for tags), but extract clean title for search\n",
    "def extract_title(title_list_string):\n",
    "    try:\n",
    "        return ast.literal_eval(title_list_string)[0].strip().lower()\n",
    "    except:\n",
    "        return ''\n",
    "\n",
    "new_df['original_title_clean'] = new_df['original_title'].apply(extract_title)\n"
   ]
  },
  {
   "cell_type": "code",
   "execution_count": 15,
   "id": "ec7c6af9",
   "metadata": {},
   "outputs": [],
   "source": [
    "def recommend(movie_name):\n",
    "    movie = movie_name.strip().lower()\n",
    "\n",
    "    if movie not in new_df['original_title_clean'].values:\n",
    "        print(f\"❌ Movie '{movie_name}' not found in dataset.\")\n",
    "        return\n",
    "\n",
    "    index = new_df[new_df['original_title_clean'] == movie].index[0]\n",
    "    distances = similarity[index]\n",
    "    movies_list = sorted(list(enumerate(distances)), reverse=True, key=lambda x: x[1])[1:6]\n",
    "\n",
    "    print(f\"\\n🎬 Recommendations for '{movie_name.title()}':\")\n",
    "    for i in movies_list:\n",
    "        print(\"→\", new_df.iloc[i[0]]['original_title_clean'].title())\n"
   ]
  },
  {
   "cell_type": "code",
   "execution_count": 16,
   "id": "88bcb451",
   "metadata": {},
   "outputs": [],
   "source": [
    "# def recommend(movie):\n",
    "#     movie = movie.lower().strip()  # Normalize input\n",
    "#     if movie not in new_df['original_title'].values:\n",
    "#         print(f\"Movie '{movie}' not found in dataset.\")\n",
    "#         return\n",
    "    \n",
    "#     index = new_df[new_df['original_title'] == movie].index[0]\n",
    "#     distances = sorted(list(enumerate(similarity[index])), reverse=True, key=lambda x: x[1])\n",
    "#     for i in distances[1:6]:\n",
    "#         print(new_df.iloc[i[0]].original_title)\n"
   ]
  },
  {
   "cell_type": "code",
   "execution_count": 17,
   "id": "e3490ff9",
   "metadata": {},
   "outputs": [
    {
     "name": "stdout",
     "output_type": "stream",
     "text": [
      "\n",
      "🎬 Recommendations for 'Spider-Man':\n",
      "→ Spider-Man3\n",
      "→ Spider-Man2\n",
      "→ Arachnophobia\n",
      "→ Theamazingspider-Man2\n",
      "→ Theamazingspider-Man\n"
     ]
    }
   ],
   "source": [
    "recommend('spider-man')"
   ]
  }
 ],
 "metadata": {
  "kernelspec": {
   "display_name": "movieR",
   "language": "python",
   "name": "python3"
  },
  "language_info": {
   "codemirror_mode": {
    "name": "ipython",
    "version": 3
   },
   "file_extension": ".py",
   "mimetype": "text/x-python",
   "name": "python",
   "nbconvert_exporter": "python",
   "pygments_lexer": "ipython3",
   "version": "3.8.20"
  }
 },
 "nbformat": 4,
 "nbformat_minor": 5
}
